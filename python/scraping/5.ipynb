{
 "cells": [
  {
   "cell_type": "code",
   "execution_count": 1,
   "id": "6225287e-6986-4226-83d1-fa56eaa6e897",
   "metadata": {},
   "outputs": [],
   "source": [
    "import requests\n",
    "from bs4 import BeautifulSoup"
   ]
  },
  {
   "cell_type": "code",
   "execution_count": 3,
   "id": "b33158aa-c450-4e8b-83e8-f40f08ba8ac8",
   "metadata": {},
   "outputs": [
    {
     "data": {
      "text/plain": [
       "<Response [200]>"
      ]
     },
     "execution_count": 3,
     "metadata": {},
     "output_type": "execute_result"
    }
   ],
   "source": [
    "url = \"https://scraping-for-beginner.herokuapp.com/image\"\n",
    "res = requests.get(url)\n",
    "res"
   ]
  },
  {
   "cell_type": "code",
   "execution_count": 5,
   "id": "db31a1ed-f2a9-4715-8d25-dfd850195787",
   "metadata": {},
   "outputs": [],
   "source": [
    "soup = BeautifulSoup(res.text, \"html.parser\")"
   ]
  },
  {
   "cell_type": "code",
   "execution_count": 7,
   "id": "79bb9163-543b-4ffe-b825-765bdaa1bbd6",
   "metadata": {},
   "outputs": [
    {
     "data": {
      "text/plain": [
       "'/static/assets/img/img1.JPG'"
      ]
     },
     "execution_count": 7,
     "metadata": {},
     "output_type": "execute_result"
    }
   ],
   "source": [
    "img_tag = soup.find(\"img\")\n",
    "img_tag[\"src\"]"
   ]
  },
  {
   "cell_type": "code",
   "execution_count": 15,
   "id": "6778ffeb-099b-4c51-8668-ff9348910d85",
   "metadata": {},
   "outputs": [
    {
     "data": {
      "text/plain": [
       "'https://scraping-for-beginner.herokuapp.com/static/assets/img/img1.JPG'"
      ]
     },
     "execution_count": 15,
     "metadata": {},
     "output_type": "execute_result"
    }
   ],
   "source": [
    "root_url = \"https://scraping-for-beginner.herokuapp.com\"\n",
    "img_url = root_url + img_tag[\"src\"]\n",
    "img_url"
   ]
  },
  {
   "cell_type": "code",
   "execution_count": 16,
   "id": "8789cec1-ef81-4417-908d-9c68765e1d6c",
   "metadata": {},
   "outputs": [],
   "source": [
    "from PIL import Image\n",
    "import io"
   ]
  },
  {
   "cell_type": "code",
   "execution_count": 21,
   "id": "c648537e-7f44-4b2c-8c68-e34361d91f75",
   "metadata": {},
   "outputs": [],
   "source": [
    "img = Image.open(io.BytesIO(requests.get(img_url).content))\n",
    "img.save(\"image/sample.jpg\")\n",
    "# requests.get(img_url).content"
   ]
  },
  {
   "cell_type": "code",
   "execution_count": 24,
   "id": "571ec8ff-54fd-4cb2-af03-37ba05b6e7a1",
   "metadata": {},
   "outputs": [],
   "source": [
    "soup = BeautifulSoup(res.text, \"html.parser\")\n",
    "# img_tag = soup.find(\"img\")\n",
    "img_tags = soup.find_all(\"img\")\n",
    "\n",
    "for i, img_tag in enumerate(img_tags):\n",
    "    root_url = \"https://scraping-for-beginner.herokuapp.com\"\n",
    "    img_url = root_url + img_tag[\"src\"]\n",
    "\n",
    "    img = Image.open(io.BytesIO(requests.get(img_url).content))\n",
    "    img.save(f\"image/{i}.jpg\")"
   ]
  },
  {
   "cell_type": "code",
   "execution_count": null,
   "id": "25976ca5-6145-40e7-9cc6-9cb5f5096540",
   "metadata": {},
   "outputs": [],
   "source": []
  }
 ],
 "metadata": {
  "kernelspec": {
   "display_name": "Python 3",
   "language": "python",
   "name": "python3"
  },
  "language_info": {
   "codemirror_mode": {
    "name": "ipython",
    "version": 3
   },
   "file_extension": ".py",
   "mimetype": "text/x-python",
   "name": "python",
   "nbconvert_exporter": "python",
   "pygments_lexer": "ipython3",
   "version": "3.9.5"
  }
 },
 "nbformat": 4,
 "nbformat_minor": 5
}
