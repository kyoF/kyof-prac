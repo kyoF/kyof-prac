{
 "cells": [
  {
   "cell_type": "code",
   "execution_count": 81,
   "id": "36b7567b-d668-4274-892f-e920b83b20a4",
   "metadata": {},
   "outputs": [],
   "source": [
    "import requests\n",
    "from bs4 import BeautifulSoup\n",
    "\n",
    "url = 'https://ledge.ai/theme/news/'\n",
    "res = requests.get(url)\n",
    "soup = BeautifulSoup(res.text, 'html.parser')\n",
    "articles = soup.find_all('li', attrs={'class':'grid-item'})\n",
    "for article in articles:\n",
    "title = article.find('h2')\n",
    "title\n",
    "#     url = article.a.get('href')"
   ]
  },
  {
   "cell_type": "code",
   "execution_count": null,
   "id": "3e5bbbab-1554-4c2f-8cc2-dfe8e4c9f1ad",
   "metadata": {},
   "outputs": [],
   "source": []
  },
  {
   "cell_type": "code",
   "execution_count": null,
   "id": "34705d78-cc51-4fa9-8581-005b0a1847fe",
   "metadata": {},
   "outputs": [],
   "source": []
  }
 ],
 "metadata": {
  "kernelspec": {
   "display_name": "Python 3",
   "language": "python",
   "name": "python3"
  },
  "language_info": {
   "codemirror_mode": {
    "name": "ipython",
    "version": 3
   },
   "file_extension": ".py",
   "mimetype": "text/x-python",
   "name": "python",
   "nbconvert_exporter": "python",
   "pygments_lexer": "ipython3",
   "version": "3.9.5"
  }
 },
 "nbformat": 4,
 "nbformat_minor": 5
}
