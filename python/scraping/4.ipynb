{
 "cells": [
  {
   "cell_type": "code",
   "execution_count": 1,
   "id": "a7910729-c8e9-42c7-8804-2d79805ae140",
   "metadata": {},
   "outputs": [],
   "source": [
    "import requests\n",
    "from bs4 import BeautifulSoup"
   ]
  },
  {
   "cell_type": "code",
   "execution_count": 2,
   "id": "09e1dbdd-084e-4cc2-8765-bedfc34615d9",
   "metadata": {},
   "outputs": [],
   "source": [
    "url = \"https://scraping-for-beginner.herokuapp.com/ranking/\"\n",
    "res = requests.get(url)"
   ]
  },
  {
   "cell_type": "code",
   "execution_count": 3,
   "id": "6833b404-5c43-40b5-83b3-e4ed00ce51cc",
   "metadata": {},
   "outputs": [
    {
     "data": {
      "text/plain": [
       "<Response [200]>"
      ]
     },
     "execution_count": 3,
     "metadata": {},
     "output_type": "execute_result"
    }
   ],
   "source": [
    "res"
   ]
  },
  {
   "cell_type": "code",
   "execution_count": 9,
   "id": "8630d6ff-ec9f-4369-97c1-c13a497b543a",
   "metadata": {},
   "outputs": [],
   "source": [
    "soup = BeautifulSoup(res.text, \"html.parser\")"
   ]
  },
  {
   "cell_type": "code",
   "execution_count": 8,
   "id": "8d677b9c-b0f5-41ee-b3e4-b563ece3f191",
   "metadata": {},
   "outputs": [
    {
     "data": {
      "text/plain": [
       "<div class=\"u_title col s12\">\n",
       "<p><h2><span class=\"badge\">1</span>観光地 1</h2></p>\n",
       "</div>"
      ]
     },
     "execution_count": 8,
     "metadata": {},
     "output_type": "execute_result"
    }
   ],
   "source": [
    "# 観光地名\n",
    "spots = soup.find_all(\"div\", attrs={\"class\" : \"u_areaListRankingBox row\"})\n",
    "spot = spots[0]\n",
    "spot_name = spot.find(\"div\", attrs={\"class\" : \"u_title\"})\n",
    "spot_name"
   ]
  },
  {
   "cell_type": "code",
   "execution_count": 85,
   "id": "2f98b1f8-72bb-42d9-9e16-14d23c900b99",
   "metadata": {},
   "outputs": [
    {
     "data": {
      "text/plain": [
       "'\\n1観光地 1\\n'"
      ]
     },
     "execution_count": 85,
     "metadata": {},
     "output_type": "execute_result"
    }
   ],
   "source": [
    "spot_name.text"
   ]
  },
  {
   "cell_type": "code",
   "execution_count": 86,
   "id": "667ac015-410d-488b-8461-b730dac9bd85",
   "metadata": {},
   "outputs": [
    {
     "data": {
      "text/plain": [
       "<span class=\"badge\">1</span>"
      ]
     },
     "execution_count": 86,
     "metadata": {},
     "output_type": "execute_result"
    }
   ],
   "source": [
    "spot_name.find(\"span\", attrs={\"class\":\"badge\"}).extract()"
   ]
  },
  {
   "cell_type": "code",
   "execution_count": 87,
   "id": "022b675d-863d-4842-a22c-8398bb2549ab",
   "metadata": {},
   "outputs": [],
   "source": [
    "spot_name = spot_name.text.replace(\"\\n\",\"\")"
   ]
  },
  {
   "cell_type": "code",
   "execution_count": 88,
   "id": "01cd12a2-bcc1-4242-acbd-f2f9193451f8",
   "metadata": {},
   "outputs": [
    {
     "data": {
      "text/plain": [
       "4.7"
      ]
     },
     "execution_count": 88,
     "metadata": {},
     "output_type": "execute_result"
    }
   ],
   "source": [
    "# 評点\n",
    "spot\n",
    "eval_num = spot.find(\"div\", attrs={\"class\":\"u_rankBox\"}).text\n",
    "eval_num = float(eval_num.replace(\"\\n\",\"\"))\n",
    "eval_num"
   ]
  },
  {
   "cell_type": "code",
   "execution_count": 89,
   "id": "7d856f7b-bebc-44e1-a675-a31e1eb9c147",
   "metadata": {},
   "outputs": [
    {
     "data": {
      "text/plain": [
       "<div class=\"u_categoryTipsItem col s12\">\n",
       "<dl>\n",
       "<dt>楽しさ</dt>\n",
       "<dd class=\"is_rank\"><span class=\"evaluateNumber\">4.6</span></dd>\n",
       "<dd class=\"comment\">とてもエンジョイした</dd>\n",
       "</dl>\n",
       "<dl>\n",
       "<dt>人混みの多さ</dt>\n",
       "<dd class=\"is_rank\"><span class=\"evaluateNumber\">4.5</span></dd>\n",
       "<dd class=\"comment\">非常に混んでいた</dd>\n",
       "</dl>\n",
       "<dl>\n",
       "<dt>景色</dt>\n",
       "<dd class=\"is_rank\"><span class=\"evaluateNumber\">4.9</span></dd>\n",
       "<dd class=\"comment\">山頂からの景色は絶景であった</dd>\n",
       "</dl>\n",
       "<dl>\n",
       "<dt>アクセス</dt>\n",
       "<dd class=\"is_rank\"><span class=\"evaluateNumber\">4.2</span></dd>\n",
       "<dd class=\"comment\">船で1時間ほどであった</dd>\n",
       "</dl>\n",
       "</div>"
      ]
     },
     "execution_count": 89,
     "metadata": {},
     "output_type": "execute_result"
    }
   ],
   "source": [
    "categoryItems = spot.find(\"div\", attrs={\"class\":\"u_categoryTipsItem\"})\n",
    "categoryItems"
   ]
  },
  {
   "cell_type": "code",
   "execution_count": 90,
   "id": "7a3533a3-44aa-4e79-9379-a066d8be4087",
   "metadata": {},
   "outputs": [],
   "source": [
    "categoryItems = categoryItems.find_all('dl')"
   ]
  },
  {
   "cell_type": "code",
   "execution_count": 91,
   "id": "51eca691-9ff9-4ac9-b067-9af86ffa9aee",
   "metadata": {},
   "outputs": [
    {
     "data": {
      "text/plain": [
       "'楽しさ'"
      ]
     },
     "execution_count": 91,
     "metadata": {},
     "output_type": "execute_result"
    }
   ],
   "source": [
    "categoryItem = categoryItems[0]\n",
    "categoryItem.dt.text"
   ]
  },
  {
   "cell_type": "code",
   "execution_count": 92,
   "id": "297d7cae-f58a-4aa3-badb-1a65bac43b71",
   "metadata": {},
   "outputs": [
    {
     "data": {
      "text/plain": [
       "4.6"
      ]
     },
     "execution_count": 92,
     "metadata": {},
     "output_type": "execute_result"
    }
   ],
   "source": [
    "rank = float(categoryItem.span.text)\n",
    "rank"
   ]
  },
  {
   "cell_type": "code",
   "execution_count": 93,
   "id": "0830a849-9f34-4ef8-84c4-07fd24e5397a",
   "metadata": {},
   "outputs": [
    {
     "data": {
      "text/plain": [
       "{'楽しさ': 4.6, '人混みの多さ': 4.5, '景色': 4.9, 'アクセス': 4.2}"
      ]
     },
     "execution_count": 93,
     "metadata": {},
     "output_type": "execute_result"
    }
   ],
   "source": [
    "details = {}\n",
    "\n",
    "\n",
    "# categoryItem = categoryItems[0]\n",
    "for categoryItem in categoryItems:\n",
    "    category = categoryItem.dt.text\n",
    "    rank = float(categoryItem.span.text)\n",
    "\n",
    "    details[category] = rank\n",
    "    \n",
    "details"
   ]
  },
  {
   "cell_type": "code",
   "execution_count": 94,
   "id": "61334caf-7583-439a-bd48-2b23efb3f23f",
   "metadata": {},
   "outputs": [
    {
     "data": {
      "text/plain": [
       "{'楽しさ': 4.6, '人混みの多さ': 4.5, '景色': 4.9, 'アクセス': 4.2, '観光地名': '観光地 1', '評点': 4.7}"
      ]
     },
     "execution_count": 94,
     "metadata": {},
     "output_type": "execute_result"
    }
   ],
   "source": [
    "datum = details\n",
    "datum[\"観光地名\"] = spot_name\n",
    "datum[\"評点\"] = eval_num\n",
    "datum"
   ]
  },
  {
   "cell_type": "code",
   "execution_count": 104,
   "id": "920c8a88-efb6-42e6-b5d9-670a9bf115dc",
   "metadata": {},
   "outputs": [
    {
     "data": {
      "text/plain": [
       "[{'楽しさ': 4.6,\n",
       "  '人混みの多さ': 4.5,\n",
       "  '景色': 4.9,\n",
       "  'アクセス': 4.2,\n",
       "  '観光地名': '観光地 1',\n",
       "  '評点': 4.7},\n",
       " {'楽しさ': 4.6,\n",
       "  '人混みの多さ': 4.5,\n",
       "  '景色': 4.9,\n",
       "  'アクセス': 4.2,\n",
       "  '観光地名': '観光地 2',\n",
       "  '評点': 4.7},\n",
       " {'楽しさ': 4.5,\n",
       "  '人混みの多さ': 4.4,\n",
       "  '景色': 4.8,\n",
       "  'アクセス': 4.1,\n",
       "  '観光地名': '観光地 3',\n",
       "  '評点': 4.6},\n",
       " {'楽しさ': 4.4,\n",
       "  '人混みの多さ': 4.4,\n",
       "  '景色': 4.8,\n",
       "  'アクセス': 4.0,\n",
       "  '観光地名': '観光地 4',\n",
       "  '評点': 4.5},\n",
       " {'楽しさ': 4.4,\n",
       "  '人混みの多さ': 4.3,\n",
       "  '景色': 4.7,\n",
       "  'アクセス': 4.0,\n",
       "  '観光地名': '観光地 5',\n",
       "  '評点': 4.5},\n",
       " {'楽しさ': 4.3,\n",
       "  '人混みの多さ': 4.3,\n",
       "  '景色': 4.7,\n",
       "  'アクセス': 3.9,\n",
       "  '観光地名': '観光地 6',\n",
       "  '評点': 4.4},\n",
       " {'楽しさ': 4.2,\n",
       "  '人混みの多さ': 4.2,\n",
       "  '景色': 4.6,\n",
       "  'アクセス': 3.8,\n",
       "  '観光地名': '観光地 7',\n",
       "  '評点': 4.3},\n",
       " {'楽しさ': 4.2,\n",
       "  '人混みの多さ': 4.2,\n",
       "  '景色': 4.6,\n",
       "  'アクセス': 3.8,\n",
       "  '観光地名': '観光地 8',\n",
       "  '評点': 4.3},\n",
       " {'楽しさ': 4.1,\n",
       "  '人混みの多さ': 4.1,\n",
       "  '景色': 4.5,\n",
       "  'アクセス': 3.7,\n",
       "  '観光地名': '観光地 9',\n",
       "  '評点': 4.2},\n",
       " {'楽しさ': 4.0,\n",
       "  '人混みの多さ': 4.1,\n",
       "  '景色': 4.4,\n",
       "  'アクセス': 3.6,\n",
       "  '観光地名': '観光地 10',\n",
       "  '評点': 4.1}]"
      ]
     },
     "execution_count": 104,
     "metadata": {},
     "output_type": "execute_result"
    }
   ],
   "source": [
    "soup = BeautifulSoup(res.text, \"html.parser\")\n",
    "\n",
    "data = []\n",
    "\n",
    "# 観光地名\n",
    "spots = soup.find_all(\"div\", attrs={\"class\" : \"u_areaListRankingBox row\"})\n",
    "# spot = spots[0]\n",
    "for spot in spots:\n",
    "    # 観光地名\n",
    "    spot_name = spot.find(\"div\", attrs={\"class\" : \"u_title\"})\n",
    "    spot_name.find(\"span\", attrs={\"class\":\"badge\"}).extract()\n",
    "    spot_name = spot_name.text.replace(\"\\n\",\"\")\n",
    "    # 評点\n",
    "    eval_num = spot.find(\"div\", attrs={\"class\":\"u_rankBox\"}).text\n",
    "    eval_num = float(eval_num.replace(\"\\n\",\"\"))\n",
    "    \n",
    "    categoryItems = spot.find(\"div\", attrs={\"class\":\"u_categoryTipsItem\"})\n",
    "    categoryItems = categoryItems.find_all('dl')\n",
    "\n",
    "    details = {}\n",
    "\n",
    "    # categoryItem = categoryItems[0]\n",
    "    for categoryItem in categoryItems:\n",
    "        category = categoryItem.dt.text\n",
    "        rank = float(categoryItem.span.text)\n",
    "\n",
    "        details[category] = rank\n",
    "\n",
    "    datum = details\n",
    "    datum[\"観光地名\"] = spot_name\n",
    "    datum[\"評点\"] = eval_num\n",
    "    \n",
    "    data.append(datum)\n",
    "    \n",
    "data"
   ]
  },
  {
   "cell_type": "code",
   "execution_count": 98,
   "id": "1963b548-8041-4647-864b-95e759625d81",
   "metadata": {},
   "outputs": [
    {
     "data": {
      "text/plain": [
       "[]"
      ]
     },
     "execution_count": 98,
     "metadata": {},
     "output_type": "execute_result"
    }
   ],
   "source": [
    "data"
   ]
  },
  {
   "cell_type": "code",
   "execution_count": 105,
   "id": "6bba9419-508c-4f64-a6a3-2c54c8af7e49",
   "metadata": {},
   "outputs": [],
   "source": [
    "import pandas as pd"
   ]
  },
  {
   "cell_type": "code",
   "execution_count": 106,
   "id": "cb1ec4c0-4d29-45c1-a82e-1c3e85be4d4c",
   "metadata": {},
   "outputs": [],
   "source": [
    "df = pd.DataFrame(data)"
   ]
  },
  {
   "cell_type": "code",
   "execution_count": 107,
   "id": "d43105f9-c293-471c-847c-2ab02814b722",
   "metadata": {},
   "outputs": [
    {
     "data": {
      "text/html": [
       "<div>\n",
       "<style scoped>\n",
       "    .dataframe tbody tr th:only-of-type {\n",
       "        vertical-align: middle;\n",
       "    }\n",
       "\n",
       "    .dataframe tbody tr th {\n",
       "        vertical-align: top;\n",
       "    }\n",
       "\n",
       "    .dataframe thead th {\n",
       "        text-align: right;\n",
       "    }\n",
       "</style>\n",
       "<table border=\"1\" class=\"dataframe\">\n",
       "  <thead>\n",
       "    <tr style=\"text-align: right;\">\n",
       "      <th></th>\n",
       "      <th>楽しさ</th>\n",
       "      <th>人混みの多さ</th>\n",
       "      <th>景色</th>\n",
       "      <th>アクセス</th>\n",
       "      <th>観光地名</th>\n",
       "      <th>評点</th>\n",
       "    </tr>\n",
       "  </thead>\n",
       "  <tbody>\n",
       "    <tr>\n",
       "      <th>0</th>\n",
       "      <td>4.6</td>\n",
       "      <td>4.5</td>\n",
       "      <td>4.9</td>\n",
       "      <td>4.2</td>\n",
       "      <td>観光地 1</td>\n",
       "      <td>4.7</td>\n",
       "    </tr>\n",
       "    <tr>\n",
       "      <th>1</th>\n",
       "      <td>4.6</td>\n",
       "      <td>4.5</td>\n",
       "      <td>4.9</td>\n",
       "      <td>4.2</td>\n",
       "      <td>観光地 2</td>\n",
       "      <td>4.7</td>\n",
       "    </tr>\n",
       "    <tr>\n",
       "      <th>2</th>\n",
       "      <td>4.5</td>\n",
       "      <td>4.4</td>\n",
       "      <td>4.8</td>\n",
       "      <td>4.1</td>\n",
       "      <td>観光地 3</td>\n",
       "      <td>4.6</td>\n",
       "    </tr>\n",
       "    <tr>\n",
       "      <th>3</th>\n",
       "      <td>4.4</td>\n",
       "      <td>4.4</td>\n",
       "      <td>4.8</td>\n",
       "      <td>4.0</td>\n",
       "      <td>観光地 4</td>\n",
       "      <td>4.5</td>\n",
       "    </tr>\n",
       "    <tr>\n",
       "      <th>4</th>\n",
       "      <td>4.4</td>\n",
       "      <td>4.3</td>\n",
       "      <td>4.7</td>\n",
       "      <td>4.0</td>\n",
       "      <td>観光地 5</td>\n",
       "      <td>4.5</td>\n",
       "    </tr>\n",
       "    <tr>\n",
       "      <th>5</th>\n",
       "      <td>4.3</td>\n",
       "      <td>4.3</td>\n",
       "      <td>4.7</td>\n",
       "      <td>3.9</td>\n",
       "      <td>観光地 6</td>\n",
       "      <td>4.4</td>\n",
       "    </tr>\n",
       "    <tr>\n",
       "      <th>6</th>\n",
       "      <td>4.2</td>\n",
       "      <td>4.2</td>\n",
       "      <td>4.6</td>\n",
       "      <td>3.8</td>\n",
       "      <td>観光地 7</td>\n",
       "      <td>4.3</td>\n",
       "    </tr>\n",
       "    <tr>\n",
       "      <th>7</th>\n",
       "      <td>4.2</td>\n",
       "      <td>4.2</td>\n",
       "      <td>4.6</td>\n",
       "      <td>3.8</td>\n",
       "      <td>観光地 8</td>\n",
       "      <td>4.3</td>\n",
       "    </tr>\n",
       "    <tr>\n",
       "      <th>8</th>\n",
       "      <td>4.1</td>\n",
       "      <td>4.1</td>\n",
       "      <td>4.5</td>\n",
       "      <td>3.7</td>\n",
       "      <td>観光地 9</td>\n",
       "      <td>4.2</td>\n",
       "    </tr>\n",
       "    <tr>\n",
       "      <th>9</th>\n",
       "      <td>4.0</td>\n",
       "      <td>4.1</td>\n",
       "      <td>4.4</td>\n",
       "      <td>3.6</td>\n",
       "      <td>観光地 10</td>\n",
       "      <td>4.1</td>\n",
       "    </tr>\n",
       "  </tbody>\n",
       "</table>\n",
       "</div>"
      ],
      "text/plain": [
       "   楽しさ  人混みの多さ   景色  アクセス    観光地名   評点\n",
       "0  4.6     4.5  4.9   4.2   観光地 1  4.7\n",
       "1  4.6     4.5  4.9   4.2   観光地 2  4.7\n",
       "2  4.5     4.4  4.8   4.1   観光地 3  4.6\n",
       "3  4.4     4.4  4.8   4.0   観光地 4  4.5\n",
       "4  4.4     4.3  4.7   4.0   観光地 5  4.5\n",
       "5  4.3     4.3  4.7   3.9   観光地 6  4.4\n",
       "6  4.2     4.2  4.6   3.8   観光地 7  4.3\n",
       "7  4.2     4.2  4.6   3.8   観光地 8  4.3\n",
       "8  4.1     4.1  4.5   3.7   観光地 9  4.2\n",
       "9  4.0     4.1  4.4   3.6  観光地 10  4.1"
      ]
     },
     "execution_count": 107,
     "metadata": {},
     "output_type": "execute_result"
    }
   ],
   "source": [
    "df"
   ]
  },
  {
   "cell_type": "code",
   "execution_count": 110,
   "id": "3cd89dfe-8e85-4905-b7a6-90fe108c38cb",
   "metadata": {},
   "outputs": [
    {
     "data": {
      "text/plain": [
       "Index(['楽しさ', '人混みの多さ', '景色', 'アクセス', '観光地名', '評点'], dtype='object')"
      ]
     },
     "execution_count": 110,
     "metadata": {},
     "output_type": "execute_result"
    }
   ],
   "source": [
    "df.columns"
   ]
  },
  {
   "cell_type": "code",
   "execution_count": 113,
   "id": "6e69e0aa-ef3a-4137-9002-f435c0ddcaab",
   "metadata": {},
   "outputs": [
    {
     "data": {
      "text/html": [
       "<div>\n",
       "<style scoped>\n",
       "    .dataframe tbody tr th:only-of-type {\n",
       "        vertical-align: middle;\n",
       "    }\n",
       "\n",
       "    .dataframe tbody tr th {\n",
       "        vertical-align: top;\n",
       "    }\n",
       "\n",
       "    .dataframe thead th {\n",
       "        text-align: right;\n",
       "    }\n",
       "</style>\n",
       "<table border=\"1\" class=\"dataframe\">\n",
       "  <thead>\n",
       "    <tr style=\"text-align: right;\">\n",
       "      <th></th>\n",
       "      <th>観光地名</th>\n",
       "      <th>評点</th>\n",
       "      <th>楽しさ</th>\n",
       "      <th>人混みの多さ</th>\n",
       "      <th>景色</th>\n",
       "      <th>アクセス</th>\n",
       "    </tr>\n",
       "  </thead>\n",
       "  <tbody>\n",
       "    <tr>\n",
       "      <th>0</th>\n",
       "      <td>観光地 1</td>\n",
       "      <td>4.7</td>\n",
       "      <td>4.6</td>\n",
       "      <td>4.5</td>\n",
       "      <td>4.9</td>\n",
       "      <td>4.2</td>\n",
       "    </tr>\n",
       "    <tr>\n",
       "      <th>1</th>\n",
       "      <td>観光地 2</td>\n",
       "      <td>4.7</td>\n",
       "      <td>4.6</td>\n",
       "      <td>4.5</td>\n",
       "      <td>4.9</td>\n",
       "      <td>4.2</td>\n",
       "    </tr>\n",
       "    <tr>\n",
       "      <th>2</th>\n",
       "      <td>観光地 3</td>\n",
       "      <td>4.6</td>\n",
       "      <td>4.5</td>\n",
       "      <td>4.4</td>\n",
       "      <td>4.8</td>\n",
       "      <td>4.1</td>\n",
       "    </tr>\n",
       "    <tr>\n",
       "      <th>3</th>\n",
       "      <td>観光地 4</td>\n",
       "      <td>4.5</td>\n",
       "      <td>4.4</td>\n",
       "      <td>4.4</td>\n",
       "      <td>4.8</td>\n",
       "      <td>4.0</td>\n",
       "    </tr>\n",
       "    <tr>\n",
       "      <th>4</th>\n",
       "      <td>観光地 5</td>\n",
       "      <td>4.5</td>\n",
       "      <td>4.4</td>\n",
       "      <td>4.3</td>\n",
       "      <td>4.7</td>\n",
       "      <td>4.0</td>\n",
       "    </tr>\n",
       "    <tr>\n",
       "      <th>5</th>\n",
       "      <td>観光地 6</td>\n",
       "      <td>4.4</td>\n",
       "      <td>4.3</td>\n",
       "      <td>4.3</td>\n",
       "      <td>4.7</td>\n",
       "      <td>3.9</td>\n",
       "    </tr>\n",
       "    <tr>\n",
       "      <th>6</th>\n",
       "      <td>観光地 7</td>\n",
       "      <td>4.3</td>\n",
       "      <td>4.2</td>\n",
       "      <td>4.2</td>\n",
       "      <td>4.6</td>\n",
       "      <td>3.8</td>\n",
       "    </tr>\n",
       "    <tr>\n",
       "      <th>7</th>\n",
       "      <td>観光地 8</td>\n",
       "      <td>4.3</td>\n",
       "      <td>4.2</td>\n",
       "      <td>4.2</td>\n",
       "      <td>4.6</td>\n",
       "      <td>3.8</td>\n",
       "    </tr>\n",
       "    <tr>\n",
       "      <th>8</th>\n",
       "      <td>観光地 9</td>\n",
       "      <td>4.2</td>\n",
       "      <td>4.1</td>\n",
       "      <td>4.1</td>\n",
       "      <td>4.5</td>\n",
       "      <td>3.7</td>\n",
       "    </tr>\n",
       "    <tr>\n",
       "      <th>9</th>\n",
       "      <td>観光地 10</td>\n",
       "      <td>4.1</td>\n",
       "      <td>4.0</td>\n",
       "      <td>4.1</td>\n",
       "      <td>4.4</td>\n",
       "      <td>3.6</td>\n",
       "    </tr>\n",
       "  </tbody>\n",
       "</table>\n",
       "</div>"
      ],
      "text/plain": [
       "     観光地名   評点  楽しさ  人混みの多さ   景色  アクセス\n",
       "0   観光地 1  4.7  4.6     4.5  4.9   4.2\n",
       "1   観光地 2  4.7  4.6     4.5  4.9   4.2\n",
       "2   観光地 3  4.6  4.5     4.4  4.8   4.1\n",
       "3   観光地 4  4.5  4.4     4.4  4.8   4.0\n",
       "4   観光地 5  4.5  4.4     4.3  4.7   4.0\n",
       "5   観光地 6  4.4  4.3     4.3  4.7   3.9\n",
       "6   観光地 7  4.3  4.2     4.2  4.6   3.8\n",
       "7   観光地 8  4.3  4.2     4.2  4.6   3.8\n",
       "8   観光地 9  4.2  4.1     4.1  4.5   3.7\n",
       "9  観光地 10  4.1  4.0     4.1  4.4   3.6"
      ]
     },
     "execution_count": 113,
     "metadata": {},
     "output_type": "execute_result"
    }
   ],
   "source": [
    "df = df[['観光地名', '評点', '楽しさ', '人混みの多さ', '景色', 'アクセス']]\n",
    "df"
   ]
  },
  {
   "cell_type": "code",
   "execution_count": 114,
   "id": "86a042f1-0184-4d89-b793-0ca8e913c44b",
   "metadata": {},
   "outputs": [],
   "source": [
    "df.to_csv(\"観光地情報.csv\", index=False)"
   ]
  },
  {
   "cell_type": "code",
   "execution_count": null,
   "id": "18ae5cd9-52c9-4fcb-b5b6-5e03c973b7f6",
   "metadata": {},
   "outputs": [],
   "source": []
  }
 ],
 "metadata": {
  "kernelspec": {
   "display_name": "Python 3",
   "language": "python",
   "name": "python3"
  },
  "language_info": {
   "codemirror_mode": {
    "name": "ipython",
    "version": 3
   },
   "file_extension": ".py",
   "mimetype": "text/x-python",
   "name": "python",
   "nbconvert_exporter": "python",
   "pygments_lexer": "ipython3",
   "version": "3.9.5"
  }
 },
 "nbformat": 4,
 "nbformat_minor": 5
}
